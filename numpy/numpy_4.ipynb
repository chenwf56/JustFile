{
 "cells": [
  {
   "cell_type": "code",
   "execution_count": 1,
   "metadata": {},
   "outputs": [
    {
     "name": "stdout",
     "output_type": "stream",
     "text": [
      "[0 1 2]\n",
      "[1.         2.71828183 7.3890561 ]\n",
      "[0.         1.         1.41421356]\n"
     ]
    }
   ],
   "source": [
    "import numpy as np\n",
    "B = np.arange(3)\n",
    "print(B)\n",
    "print(np.exp(B)) #返回e的幂次方，e是一个常数为2.71828\n",
    "print(np.sqrt(B))# 开根号"
   ]
  },
  {
   "cell_type": "code",
   "execution_count": 2,
   "metadata": {},
   "outputs": [
    {
     "name": "stdout",
     "output_type": "stream",
     "text": [
      "[[5. 2. 7. 0.]\n",
      " [3. 6. 4. 7.]\n",
      " [4. 0. 7. 7.]]\n",
      "(3, 4)\n",
      "[5. 2. 7. 0. 3. 6. 4. 7. 4. 0. 7. 7.]\n",
      "7777777777777777777777\n",
      "[[5. 2. 7. 0.]\n",
      " [3. 6. 4. 7.]\n",
      " [4. 0. 7. 7.]]\n",
      "(3, 4)\n",
      "[[5. 2.]\n",
      " [7. 0.]\n",
      " [3. 6.]\n",
      " [4. 7.]\n",
      " [4. 0.]\n",
      " [7. 7.]]\n",
      "[[5. 7. 3. 4. 4. 7.]\n",
      " [2. 0. 6. 7. 0. 7.]]\n",
      "None\n",
      "[[5. 2. 7. 0. 3. 6.]\n",
      " [4. 7. 4. 0. 7. 7.]]\n"
     ]
    }
   ],
   "source": [
    "# floor向下取整 3.5 向下取整为 3\n",
    "a = np.floor(10*np.random.random((3,4))) \n",
    "print(a)\n",
    "print(a.shape)\n",
    "# 把矩阵拉平，从矩阵拉成了向量 返回新的 不改变原来的数据\n",
    "print(a.ravel())\n",
    "print(7777777777777777777777)\n",
    "print(a)\n",
    "print(a.shape)\n",
    "a.shape = (6, 2)\n",
    "print(a)\n",
    "print(a.T) # 转置\n",
    "print(a.resize((2,6)))\n",
    "print(a)\n",
    "\n",
    "#If a dimension is given as -1 in a reshaping operation, the other dimensions are automatically calculated:\n",
    "#a.reshape(3,-1) # 3行 -1自动计算"
   ]
  },
  {
   "cell_type": "code",
   "execution_count": 4,
   "metadata": {},
   "outputs": [
    {
     "name": "stdout",
     "output_type": "stream",
     "text": [
      "[[4. 2.]\n",
      " [7. 1.]]\n",
      "---\n",
      "[[8. 4.]\n",
      " [2. 1.]]\n",
      "---\n",
      "[[4. 2. 8. 4.]\n",
      " [7. 1. 2. 1.]]\n",
      "---\n",
      "[[4. 2.]\n",
      " [7. 1.]\n",
      " [8. 4.]\n",
      " [2. 1.]]\n"
     ]
    }
   ],
   "source": [
    "# hstack 矩阵横拼接，hstack 矩阵纵拼接\n",
    "a = np.floor(10*np.random.random((2,2)))\n",
    "b = np.floor(10*np.random.random((2,2)))\n",
    "print(a)\n",
    "print('---')\n",
    "print(b)\n",
    "print('---')\n",
    "print(np.hstack((a,b)) )#横拼接\n",
    "print('---')\n",
    "print(np.vstack((a,b)) ) #竖拼接"
   ]
  },
  {
   "cell_type": "code",
   "execution_count": 5,
   "metadata": {},
   "outputs": [
    {
     "name": "stdout",
     "output_type": "stream",
     "text": [
      "[[1. 7. 6. 4. 7. 7. 5. 6. 8. 0. 1. 6.]\n",
      " [7. 2. 2. 8. 6. 4. 6. 9. 5. 5. 4. 2.]]\n",
      "---\n",
      "[array([[1., 7., 6., 4.],\n",
      "       [7., 2., 2., 8.]]), array([[7., 7., 5., 6.],\n",
      "       [6., 4., 6., 9.]]), array([[8., 0., 1., 6.],\n",
      "       [5., 5., 4., 2.]])]\n",
      "---\n",
      "[array([[1., 7., 6.],\n",
      "       [7., 2., 2.]]), array([[4.],\n",
      "       [8.]]), array([[7., 7., 5., 6., 8., 0., 1., 6.],\n",
      "       [6., 4., 6., 9., 5., 5., 4., 2.]])]\n",
      "[[9. 0.]\n",
      " [1. 8.]\n",
      " [3. 5.]\n",
      " [8. 2.]\n",
      " [7. 3.]\n",
      " [0. 8.]\n",
      " [7. 7.]\n",
      " [5. 9.]\n",
      " [4. 2.]\n",
      " [1. 9.]\n",
      " [9. 6.]\n",
      " [3. 7.]]\n"
     ]
    },
    {
     "data": {
      "text/plain": [
       "[array([[9., 0.],\n",
       "        [1., 8.],\n",
       "        [3., 5.],\n",
       "        [8., 2.]]), array([[7., 3.],\n",
       "        [0., 8.],\n",
       "        [7., 7.],\n",
       "        [5., 9.]]), array([[4., 2.],\n",
       "        [1., 9.],\n",
       "        [9., 6.],\n",
       "        [3., 7.]])]"
      ]
     },
     "execution_count": 5,
     "metadata": {},
     "output_type": "execute_result"
    }
   ],
   "source": [
    "a = np.floor(10*np.random.random((2,12)))\n",
    "print(a)\n",
    "print('---')\n",
    "print(np.hsplit(a,3)) #横着切分 3分\n",
    "print('---')\n",
    "# 传元组 就相当于指定了一个位置 在(3,4)位置切一刀\n",
    "print(np.hsplit(a,(3,4)) ) \n",
    "a = np.floor(10*np.random.random((12,2)))\n",
    "print(a)\n",
    "np.vsplit(a,3) #纵切分"
   ]
  },
  {
   "cell_type": "code",
   "execution_count": 8,
   "metadata": {},
   "outputs": [
    {
     "name": "stdout",
     "output_type": "stream",
     "text": [
      "True\n",
      "(3, 4)\n",
      "86084464\n",
      "86084464\n"
     ]
    }
   ],
   "source": [
    "#Simple assignments make no copy of array objects or of their data.\n",
    "a = np.arange(12)\n",
    "b = a\n",
    "# a and b are two names for the same ndarray object\n",
    "print(b is a)\n",
    "b.shape = 3,4\n",
    "print(a.shape)\n",
    "print(id(a))\n",
    "print(id(b)) # 名字不同 指向的内存地址是一样的"
   ]
  },
  {
   "cell_type": "code",
   "execution_count": 7,
   "metadata": {},
   "outputs": [
    {
     "name": "stdout",
     "output_type": "stream",
     "text": [
      "False\n"
     ]
    },
    {
     "data": {
      "text/plain": [
       "array([[   0,    1,    2,    3],\n",
       "       [1234,    5,    6,    7],\n",
       "       [   8,    9,   10,   11]])"
      ]
     },
     "execution_count": 7,
     "metadata": {},
     "output_type": "execute_result"
    }
   ],
   "source": [
    "#The view method creates a new array object that looks at the same data.\n",
    "c = a.view()# 相当于是一个浅复制 id值不一样 但是公用的是一套值\n",
    "print(c is a)\n",
    "c.shape = 2,6\n",
    "#print a.shape\n",
    "c[0,4] = 1234\n",
    "a"
   ]
  },
  {
   "cell_type": "code",
   "execution_count": 9,
   "metadata": {},
   "outputs": [
    {
     "name": "stdout",
     "output_type": "stream",
     "text": [
      "False\n",
      "[[ 0  1  2  3]\n",
      " [ 4  5  6  7]\n",
      " [ 8  9 10 11]]\n",
      "[[ 0  1  2  3]\n",
      " [ 4  5  6  7]\n",
      " [ 8  9 10 11]]\n"
     ]
    }
   ],
   "source": [
    "#The copy method makes a complete copy of the array and its data.\n",
    "d = a.copy() # 深复制 么有关系的\n",
    "print(d is a)\n",
    "d[0,0] = 9999\n",
    "print(a) \n",
    "print(b)"
   ]
  },
  {
   "cell_type": "code",
   "execution_count": null,
   "metadata": {
    "collapsed": true
   },
   "outputs": [],
   "source": []
  }
 ],
 "metadata": {
  "kernelspec": {
   "display_name": "Python 3",
   "language": "python",
   "name": "python3"
  },
  "language_info": {
   "codemirror_mode": {
    "name": "ipython",
    "version": 3
   },
   "file_extension": ".py",
   "mimetype": "text/x-python",
   "name": "python",
   "nbconvert_exporter": "python",
   "pygments_lexer": "ipython3",
   "version": "3.6.3"
  }
 },
 "nbformat": 4,
 "nbformat_minor": 1
}
